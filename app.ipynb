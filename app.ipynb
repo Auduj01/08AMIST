{
 "cells": [
  {
   "cell_type": "code",
   "execution_count": null,
   "id": "2c7fa457-e5d8-4ce5-82a5-9fefc79f0a61",
   "metadata": {},
   "outputs": [],
   "source": [
    "#Data from csv file into python\n",
    "#x(features), and y(label)"
   ]
  },
  {
   "cell_type": "code",
   "execution_count": null,
   "id": "0a84b8e6-fb66-4a18-a484-6336117d40f8",
   "metadata": {},
   "outputs": [],
   "source": [
    "import pandas as pd\n",
    "import numpy as np\n",
    "import json\n",
    "import pickle\n",
    "import numpy as np\n",
    "from sklearn.model_selection import train_test_split\n",
    "!pip install scikit-learn\n",
    "from sklearn import linear_model\n",
    "from sklearn.linear_model import LinearRegression\n",
    "from sklearn.metrics import mean_squared_error, mean_absolute_error, r2_score"
   ]
  },
  {
   "cell_type": "code",
   "execution_count": null,
   "id": "edf2cbbd-329a-489e-aa38-4ff991c18e85",
   "metadata": {},
   "outputs": [],
   "source": [
    "df = pd.read_csv('rent2.csv')"
   ]
  },
  {
   "cell_type": "code",
   "execution_count": null,
   "id": "14cb2819-c870-4149-be9e-5549b36a1290",
   "metadata": {},
   "outputs": [],
   "source": [
    "df.info()"
   ]
  },
  {
   "cell_type": "code",
   "execution_count": null,
   "id": "f06f5e61-3281-461e-ba67-d85adb2828a3",
   "metadata": {},
   "outputs": [],
   "source": [
    "x = df[['Room', 'sq_ft']].values\n",
    "y = df['price'].values"
   ]
  },
  {
   "cell_type": "code",
   "execution_count": null,
   "id": "8c61a0df-074d-4352-bece-5f5772a53d01",
   "metadata": {},
   "outputs": [],
   "source": [
    "x_test,x_train,y_test,y_train =train_test_split(x,y,test_size=0.2,random_state=42)"
   ]
  },
  {
   "cell_type": "code",
   "execution_count": null,
   "id": "83e33939-304d-426f-a640-d9d1864b3c78",
   "metadata": {},
   "outputs": [],
   "source": [
    "#Algorithm Selection\n",
    "model= LinearRegression()\n",
    "model.fit(x_train,y_train)\n"
   ]
  },
  {
   "cell_type": "code",
   "execution_count": null,
   "id": "72b5cdce-fe4f-4d45-93d0-09bead232782",
   "metadata": {},
   "outputs": [],
   "source": [
    "# save the model to disk\n",
    "filename = 'model/rental_prediction_model.pkl'\n",
    "pickle.dump(model,open(filename, 'wb'))"
   ]
  },
  {
   "cell_type": "code",
   "execution_count": null,
   "id": "4514e6e4-4932-4a0e-a215-c4b47cf9178f",
   "metadata": {},
   "outputs": [],
   "source": [
    "#load the model from disk\n",
    "model = pickle.load(open(filename, 'rb'))\n"
   ]
  },
  {
   "cell_type": "code",
   "execution_count": null,
   "id": "acb5ad6b-b9b4-4592-bf53-3c29f73f6915",
   "metadata": {},
   "outputs": [],
   "source": [
    "#Evaluate the model\n",
    "from sklearn.metrics import mean_squared_error, mean_absolute_error, r2_score\n",
    "y_pred =  model.predict(x_test)\n",
    "mse = mean_squared_error(y_test, y_pred)\n",
    "mae = mean_absolute_error(y_test, y_pred)\n",
    "r2 = r2_score(y_test, y_pred)\n",
    "\n",
    "print(\"MSE:\", mse)\n",
    "print(\"MAE:\", mae)\n",
    "print(\"R² Score:\", r2)\n"
   ]
  },
  {
   "cell_type": "code",
   "execution_count": null,
   "id": "8aa29b66-a364-4d7e-9658-022c01065895",
   "metadata": {},
   "outputs": [],
   "source": [
    " "
   ]
  },
  {
   "cell_type": "code",
   "execution_count": null,
   "id": "47ba57c4-ab55-4d45-8164-6365ceeef05c",
   "metadata": {},
   "outputs": [],
   "source": []
  },
  {
   "cell_type": "code",
   "execution_count": null,
   "id": "79c22605-f240-4846-9d11-2d223edb0ab8",
   "metadata": {},
   "outputs": [],
   "source": []
  },
  {
   "cell_type": "code",
   "execution_count": null,
   "id": "308ea1b1-4e52-4444-b977-28936fe40d0c",
   "metadata": {},
   "outputs": [],
   "source": []
  }
 ],
 "metadata": {
  "kernelspec": {
   "display_name": "Python 3 (ipykernel)",
   "language": "python",
   "name": "python3"
  },
  "language_info": {
   "codemirror_mode": {
    "name": "ipython",
    "version": 3
   },
   "file_extension": ".py",
   "mimetype": "text/x-python",
   "name": "python",
   "nbconvert_exporter": "python",
   "pygments_lexer": "ipython3",
   "version": "3.13.3"
  }
 },
 "nbformat": 4,
 "nbformat_minor": 5
}
